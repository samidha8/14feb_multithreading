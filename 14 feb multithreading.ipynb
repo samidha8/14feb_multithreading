{
 "cells": [
  {
   "cell_type": "code",
   "execution_count": 1,
   "id": "5f0d9420-3178-4199-a33b-ce6c9fa5d2d7",
   "metadata": {},
   "outputs": [
    {
     "data": {
      "text/plain": [
       "'Q1 What is multithreading in python? hy is it used? Name the module used to handle threads in python'"
      ]
     },
     "execution_count": 1,
     "metadata": {},
     "output_type": "execute_result"
    }
   ],
   "source": [
    "\"\"\"Q1 What is multithreading in python? hy is it used? Name the module used to handle threads in python\"\"\""
   ]
  },
  {
   "cell_type": "code",
   "execution_count": 2,
   "id": "14ea8a5e-b3ad-407d-92a0-cceb3369b481",
   "metadata": {},
   "outputs": [],
   "source": [
    "import logging"
   ]
  },
  {
   "cell_type": "code",
   "execution_count": 3,
   "id": "7a40cbe8-7e42-4165-b257-ad46371cbf12",
   "metadata": {},
   "outputs": [],
   "source": [
    "logging.basicConfig(filename= \"multithre.txt\", level = logging.DEBUG)"
   ]
  },
  {
   "cell_type": "code",
   "execution_count": 4,
   "id": "d286527c-73e5-45c9-822f-3e0c68e3678a",
   "metadata": {},
   "outputs": [],
   "source": [
    "logging.info(\"Multithreading refers to concurrently executing multiple threads by rapidly switching the control of the CPU between threads (called context switching). The Python Global Interpreter Lock limits one thread to run at a time even if the machine contains multiple processors.\")"
   ]
  },
  {
   "cell_type": "code",
   "execution_count": 6,
   "id": "68f36b79-a92a-4444-b61d-143e59476ba3",
   "metadata": {},
   "outputs": [
    {
     "data": {
      "text/plain": [
       "'Multithreading refers to concurrently executing multiple threads by rapidly switching the control of the CPU between threads (called context switching). The Python Global Interpreter Lock limits one thread to run at a time even if the machine contains multiple processors. or Multithreading allows the execution of multiple parts of a program at the same time. These parts are known as threads and are lightweight processes available within the process. So multithreading leads to maximum utilization of the CPU by multitasking.'"
      ]
     },
     "execution_count": 6,
     "metadata": {},
     "output_type": "execute_result"
    }
   ],
   "source": [
    "\"\"\"Multithreading refers to concurrently executing multiple threads by rapidly switching the control of the CPU between threads (called context switching). The Python Global Interpreter Lock limits one thread to run at a time even if the machine contains multiple processors. or Multithreading allows the execution of multiple parts of a program at the same time. These parts are known as threads and are lightweight processes available within the process. So multithreading leads to maximum utilization of the CPU by multitasking.\"\"\""
   ]
  },
  {
   "cell_type": "code",
   "execution_count": 8,
   "id": "8c6d577f-04f0-4f4a-bc89-504d23ca9831",
   "metadata": {},
   "outputs": [],
   "source": [
    "logging.info(\"threading module is used to handle threads in python\")"
   ]
  },
  {
   "cell_type": "code",
   "execution_count": null,
   "id": "6eac00a7-b110-4704-bdd1-a37ab3490c8e",
   "metadata": {},
   "outputs": [],
   "source": [
    "#threading module is sued to handle threads in python"
   ]
  },
  {
   "cell_type": "code",
   "execution_count": null,
   "id": "3ce7caf4-ff68-4196-b0d6-436f77caf316",
   "metadata": {},
   "outputs": [],
   "source": []
  },
  {
   "cell_type": "code",
   "execution_count": null,
   "id": "1d4cbe61-427d-4083-862e-a31a7f30a4df",
   "metadata": {},
   "outputs": [],
   "source": [
    "#Q2 Why threading module used? rite the use of the following functions"
   ]
  },
  {
   "cell_type": "code",
   "execution_count": 9,
   "id": "62aa5901-7a7c-4060-a5e5-3170e8ce893f",
   "metadata": {},
   "outputs": [],
   "source": [
    "logging.info(\"Python threading module allows you to have different parts of your program run concurrently and can simplify your design\")"
   ]
  },
  {
   "cell_type": "code",
   "execution_count": 10,
   "id": "16ab96e1-a481-48a8-b7aa-f1789ba9aeb9",
   "metadata": {},
   "outputs": [
    {
     "data": {
      "text/plain": [
       "'Python threading allows you to have different parts of your program run concurrently and can simplify your design'"
      ]
     },
     "execution_count": 10,
     "metadata": {},
     "output_type": "execute_result"
    }
   ],
   "source": [
    "\"\"\"Python threading allows you to have different parts of your program run concurrently and can simplify your design\"\"\""
   ]
  },
  {
   "cell_type": "code",
   "execution_count": 11,
   "id": "72cb4346-2ecf-4b4d-879b-55b3d9c3d322",
   "metadata": {},
   "outputs": [],
   "source": [
    "logging.info(\"activeCount = threading.activeCount() − Returns the number of thread objects that are active.\")"
   ]
  },
  {
   "cell_type": "code",
   "execution_count": 13,
   "id": "9eaf6333-b6da-4355-ab6d-6fa465c436fd",
   "metadata": {},
   "outputs": [
    {
     "data": {
      "text/plain": [
       "'threading.activeCount() − Returns the number of thread objects that are active.'"
      ]
     },
     "execution_count": 13,
     "metadata": {},
     "output_type": "execute_result"
    }
   ],
   "source": [
    "\"\"\"threading.activeCount() − Returns the number of thread objects that are active.\"\"\""
   ]
  },
  {
   "cell_type": "code",
   "execution_count": 14,
   "id": "5740618c-47c7-425d-9ff2-d1a5581b7fc1",
   "metadata": {},
   "outputs": [],
   "source": [
    "logging.info(\"currentThread() method of thread class is used to return a reference to the currently executing thread object.\")"
   ]
  },
  {
   "cell_type": "code",
   "execution_count": 15,
   "id": "2481d68d-16a3-432a-ba95-01b2109c730f",
   "metadata": {},
   "outputs": [
    {
     "data": {
      "text/plain": [
       "'currentThread() method of thread class is used to return a reference to the currently executing thread object.'"
      ]
     },
     "execution_count": 15,
     "metadata": {},
     "output_type": "execute_result"
    }
   ],
   "source": [
    "\"\"\"currentThread() method of thread class is used to return a reference to the currently executing thread object.\"\"\""
   ]
  },
  {
   "cell_type": "code",
   "execution_count": 18,
   "id": "c00048e7-01bc-4b59-8208-161761e76b76",
   "metadata": {},
   "outputs": [],
   "source": [
    "logging.info(\"threading.enumerate()Return a list of all Thread objects currently active. It excludes terminated threads and threads that have not yet been started. However, the main thread is always part of the result, even when terminated.\")"
   ]
  },
  {
   "cell_type": "code",
   "execution_count": 19,
   "id": "82cd1ef2-6582-493f-af51-838c136c1b4b",
   "metadata": {},
   "outputs": [
    {
     "data": {
      "text/plain": [
       "'threading.enumerate()\\nReturn a list of all Thread objects currently active. It excludes terminated threads and threads that have not yet been started. However, the main thread is always part of the result, even when terminated.'"
      ]
     },
     "execution_count": 19,
     "metadata": {},
     "output_type": "execute_result"
    }
   ],
   "source": [
    "\"\"\"threading.enumerate()\n",
    "Return a list of all Thread objects currently active. It excludes terminated threads and threads that have not yet been started. However, the main thread is always part of the result, even when terminated.\"\"\""
   ]
  },
  {
   "cell_type": "code",
   "execution_count": null,
   "id": "47852fcf-46e6-4608-9c84-e02c48ea435b",
   "metadata": {},
   "outputs": [],
   "source": [
    "#Q3. Explain the following functions"
   ]
  },
  {
   "cell_type": "code",
   "execution_count": 20,
   "id": "ae61327d-1e74-472b-acf8-ec88b9d0b864",
   "metadata": {},
   "outputs": [],
   "source": [
    "logging.info(\"run() method is an inbuilt method of the Thread class of the threading module in Python. This method is used to represent a thread's activity. It calls the method expressed as the target argument in the Thread object along with the positional and keyword arguments taken from the args and kwargs arguments, respectively.\")"
   ]
  },
  {
   "cell_type": "code",
   "execution_count": 21,
   "id": "82f59273-bd26-4e73-a746-90028ae94aa8",
   "metadata": {},
   "outputs": [
    {
     "data": {
      "text/plain": [
       "\"run() method is an inbuilt method of the Thread class of the threading module in Python. This method is used to represent a thread's activity. It calls the method expressed as the target argument in the Thread object along with the positional and keyword arguments taken from the args and kwargs arguments, respectively.\""
      ]
     },
     "execution_count": 21,
     "metadata": {},
     "output_type": "execute_result"
    }
   ],
   "source": [
    "\"\"\"run() method is an inbuilt method of the Thread class of the threading module in Python. This method is used to represent a thread's activity. It calls the method expressed as the target argument in the Thread object along with the positional and keyword arguments taken from the args and kwargs arguments, respectively.\"\"\""
   ]
  },
  {
   "cell_type": "code",
   "execution_count": 23,
   "id": "5c476b3d-a124-4041-837d-68c013f1705b",
   "metadata": {},
   "outputs": [],
   "source": [
    "logging.info(\"start() method is an inbuilt method of the Thread class of the threading module in Python. It is used to start a thread's activity. This method calls the run() method internally which then executes the target method. This method must be called at most one time for one thread.\")"
   ]
  },
  {
   "cell_type": "code",
   "execution_count": 24,
   "id": "b8fe3276-2034-4666-a659-6c90dbe708fd",
   "metadata": {},
   "outputs": [
    {
     "data": {
      "text/plain": [
       "\"start() method is an inbuilt method of the Thread class of the threading module in Python. It is used to start a thread's activity. This method calls the run() method internally which then executes the target method. This method must be called at most one time for one thread.\""
      ]
     },
     "execution_count": 24,
     "metadata": {},
     "output_type": "execute_result"
    }
   ],
   "source": [
    "\"\"\"start() method is an inbuilt method of the Thread class of the threading module in Python. It is used to start a thread's activity. This method calls the run() method internally which then executes the target method. This method must be called at most one time for one thread.\"\"\""
   ]
  },
  {
   "cell_type": "code",
   "execution_count": 25,
   "id": "50262a53-7c05-4fb6-a232-19e4094bf7b1",
   "metadata": {},
   "outputs": [],
   "source": [
    "logging.info(\"Thread. join() method. This has the effect of blocking the current thread until the target thread that has been joined has terminated.Thread. join() method. This has the effect of blocking the current thread until the target thread that has been joined has terminated.\")"
   ]
  },
  {
   "cell_type": "code",
   "execution_count": 27,
   "id": "af5b93b1-38fe-4ad0-8afc-014ba75b22cd",
   "metadata": {},
   "outputs": [
    {
     "data": {
      "text/plain": [
       "'Thread.join() method. This has the effect of blocking the current thread until the target thread that has been joined has terminated.'"
      ]
     },
     "execution_count": 27,
     "metadata": {},
     "output_type": "execute_result"
    }
   ],
   "source": [
    "\"\"\"Thread.join() method. This has the effect of blocking the current thread until the target thread that has been joined has terminated.\"\"\""
   ]
  },
  {
   "cell_type": "code",
   "execution_count": 29,
   "id": "dc22c9a9-9dff-449c-a1fd-ba3e37c0eb2d",
   "metadata": {},
   "outputs": [],
   "source": [
    "logging.info(\"Thread.is_alive() method is an inbuilt method of the Thread class of the threading module in Python. It uses a Thread object, and checks whether that thread is alive or not, ie, it is still running or not. This method returns True before the run() starts until just after the run() method is executed.\")"
   ]
  },
  {
   "cell_type": "code",
   "execution_count": 28,
   "id": "fb04e0c1-b70c-4af1-a81d-231b5555e2ae",
   "metadata": {},
   "outputs": [
    {
     "data": {
      "text/plain": [
       "'Thread.is_alive() method is an inbuilt method of the Thread class of the threading module in Python. It uses a Thread object, and checks whether that thread is alive or not, ie, it is still running or not. This method returns True before the run() starts until just after the run() method is executed.'"
      ]
     },
     "execution_count": 28,
     "metadata": {},
     "output_type": "execute_result"
    }
   ],
   "source": [
    "\"\"\"Thread.is_alive() method is an inbuilt method of the Thread class of the threading module in Python. It uses a Thread object, and checks whether that thread is alive or not, ie, it is still running or not. This method returns True before the run() starts until just after the run() method is executed.\"\"\""
   ]
  },
  {
   "cell_type": "code",
   "execution_count": null,
   "id": "d3233ce9-56ed-4f72-84d0-dbc29447617c",
   "metadata": {},
   "outputs": [],
   "source": []
  },
  {
   "cell_type": "code",
   "execution_count": 20,
   "id": "f9b9cb14-c9a3-4e21-90b0-4afb51d989d9",
   "metadata": {},
   "outputs": [
    {
     "data": {
      "text/plain": [
       "'4. rite a python program to create two threads. Thread one must print the list of squares and thread\\ntwo must print the list of cubes'"
      ]
     },
     "execution_count": 20,
     "metadata": {},
     "output_type": "execute_result"
    }
   ],
   "source": [
    "\"\"\"4. rite a python program to create two threads. Thread one must print the list of squares and thread\n",
    "two must print the list of cubes\"\"\""
   ]
  },
  {
   "cell_type": "code",
   "execution_count": 19,
   "id": "4ce5f387-6c58-45a7-951c-afd77fde2595",
   "metadata": {},
   "outputs": [
    {
     "name": "stdout",
     "output_type": "stream",
     "text": [
      "Square: 196\n",
      "Cube: 2744\n"
     ]
    }
   ],
   "source": [
    "import threading\n",
    "import os\n",
    "def tread1(num):\n",
    "    print(\"Square: {}\" .format(num * num))\n",
    "def thread2(num):\n",
    "    print(\"Cube: {}\" .format(num * num * num))\n",
    "    \n",
    "if__name__ = '__main__'    \n",
    "m1  =threading.Thread(target= tread1, args=(14,))\n",
    "m2  =threading.Thread(target= thread2, args=(14,))\n",
    "\n",
    "m1.start()\n",
    "m2.start()\n",
    "m1.join()\n",
    "m2.join()\n",
    "\n",
    "\n",
    "\n",
    " "
   ]
  },
  {
   "cell_type": "code",
   "execution_count": null,
   "id": "f99ca6fa-d965-47c5-aa50-4ddccdd7fe14",
   "metadata": {},
   "outputs": [],
   "source": []
  },
  {
   "cell_type": "code",
   "execution_count": null,
   "id": "eba7adce-f24a-44b5-91b3-b9eaeaad6e2a",
   "metadata": {},
   "outputs": [],
   "source": [
    "5. State advantages and disadvantages of multithreading"
   ]
  },
  {
   "cell_type": "code",
   "execution_count": null,
   "id": "05b37fd1-cd73-44b4-b723-195225ca0523",
   "metadata": {},
   "outputs": [],
   "source": [
    "#Advantages\n",
    "#Improved performance and concurrency\n",
    "#Simplified coding of remote procedure calls and conversations\n",
    "#Simultaneous access to multiple applications\n",
    "#Reduced number of required servers\n",
    "#Disadvantages\n",
    "#Difficulty of writing code\n",
    "#Difficulty of debugging\n",
    "#Difficulty of managing concurrency\n",
    "#Difficulty of testing\n",
    "#Difficulty of porting existing code"
   ]
  },
  {
   "cell_type": "code",
   "execution_count": null,
   "id": "90f5c72b-06a1-4a8c-b73a-2541fd012236",
   "metadata": {},
   "outputs": [],
   "source": []
  },
  {
   "cell_type": "code",
   "execution_count": null,
   "id": "3a2beb43-4436-49aa-89f3-68432a3fcced",
   "metadata": {},
   "outputs": [],
   "source": [
    "#6. Explain deadlocks and race conditions."
   ]
  },
  {
   "cell_type": "code",
   "execution_count": null,
   "id": "a1ad5ccf-8e3b-4793-86a4-9f271adb7b82",
   "metadata": {},
   "outputs": [],
   "source": [
    "A race condition occurs when two threads use the same variable at a given time\n",
    "Deadlock exists when two threads seek one lock simultaneously. "
   ]
  }
 ],
 "metadata": {
  "kernelspec": {
   "display_name": "Python 3 (ipykernel)",
   "language": "python",
   "name": "python3"
  },
  "language_info": {
   "codemirror_mode": {
    "name": "ipython",
    "version": 3
   },
   "file_extension": ".py",
   "mimetype": "text/x-python",
   "name": "python",
   "nbconvert_exporter": "python",
   "pygments_lexer": "ipython3",
   "version": "3.10.8"
  }
 },
 "nbformat": 4,
 "nbformat_minor": 5
}
